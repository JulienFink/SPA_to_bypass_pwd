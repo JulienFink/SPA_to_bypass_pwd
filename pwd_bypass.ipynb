{
 "cells": [
  {
   "cell_type": "markdown",
   "id": "07b2d7a6",
   "metadata": {},
   "source": [
    "## Config and initialization"
   ]
  },
  {
   "cell_type": "code",
   "execution_count": null,
   "id": "98672830",
   "metadata": {},
   "outputs": [],
   "source": [
    "%run \"Setup_Scripts/Setup_Generic.ipynb\""
   ]
  },
  {
   "cell_type": "code",
   "execution_count": null,
   "id": "34d65ce6",
   "metadata": {},
   "outputs": [],
   "source": [
    "scope.adc.samples = 3000"
   ]
  },
  {
   "cell_type": "code",
   "execution_count": null,
   "id": "329bcefc",
   "metadata": {},
   "outputs": [],
   "source": [
    "cw.program_target(scope, prog, \"pwd_check.hex\")"
   ]
  },
  {
   "cell_type": "markdown",
   "id": "b9b23d63",
   "metadata": {},
   "source": [
    "## Functions and first glance at a power capture"
   ]
  },
  {
   "cell_type": "code",
   "execution_count": null,
   "id": "ada02d61",
   "metadata": {},
   "outputs": [],
   "source": [
    "def send_pwd_and_capture(pass_guess):\n",
    "    reset_target(scope)\n",
    "    num_char = target.in_waiting()\n",
    "    while num_char > 0:\n",
    "        target.read(num_char, 10)\n",
    "        time.sleep(0.01)\n",
    "        num_char = target.in_waiting()\n",
    "\n",
    "    scope.arm()\n",
    "    target.write(pass_guess)\n",
    "    ret = scope.capture()\n",
    "    if ret:\n",
    "        print('Timeout during acquisition')\n",
    "\n",
    "    trace = scope.get_last_trace()\n",
    "    return trace"
   ]
  },
  {
   "cell_type": "markdown",
   "id": "07b2d7b3",
   "metadata": {},
   "source": [
    "#### Power consumption of two characters - '0' being a correct one"
   ]
  },
  {
   "cell_type": "code",
   "execution_count": null,
   "id": "c803e89d",
   "metadata": {},
   "outputs": [],
   "source": [
    "%matplotlib notebook\n",
    "import matplotlib.pylab as plt\n",
    "\n",
    "# Obviously a bad character for the password since \\x00 is not printable\n",
    "plt.figure()\n",
    "ref_trace = send_pwd_and_capture(\"\\x00\\n\")[0:500]\n",
    "plt.plot(ref_trace, 'r')\n",
    "\n",
    "other_trace = send_pwd_and_capture(\"0\\n\")[0:500]\n",
    "plt.plot(other_trace, 'b')"
   ]
  },
  {
   "cell_type": "markdown",
   "id": "07b2a3b3",
   "metadata": {},
   "source": [
    "#### Power consumption of two characters - both of them are incorrect characters for the password"
   ]
  },
  {
   "cell_type": "code",
   "execution_count": null,
   "id": "c803e89d",
   "metadata": {},
   "outputs": [],
   "source": [
    "%matplotlib notebook\n",
    "import matplotlib.pylab as plt\n",
    "\n",
    "# Obviously a bad character for the password since \\x00 is not printable\n",
    "plt.figure()\n",
    "ref_trace = send_pwd_and_capture(\"\\x00\\n\")[0:500]\n",
    "plt.plot(ref_trace, 'r')\n",
    "\n",
    "other_trace = send_pwd_and_capture(\"a\\n\")[0:500]\n",
    "plt.plot(other_trace, 'b')"
   ]
  },
  {
   "cell_type": "markdown",
   "id": "07b2d7b4",
   "metadata": {},
   "source": [
    "#### Comparing the two plots above, we can already see that the power consumption between a correct and an incorrect character differs slightly. This is due to the internal computation of the target and the comparisons between the input characters and the one from the password."
   ]
  },
  {
   "cell_type": "markdown",
   "id": "0822a1b3",
   "metadata": {},
   "source": [
    "#### Let's compare the delta of the traces ; the differences are small for '\x00' and 'a' but high for '\x00' and '0'"
   ]
  },
  {
   "cell_type": "code",
   "execution_count": null,
   "id": "128f71c7",
   "metadata": {},
   "outputs": [],
   "source": [
    "scope.adc.samples = 500\n\n",
    "plt.figure()\n",
    "trace = send_pwd_and_capture(\"0\" + \"\\n\")\n",
    "plt.plot(trace - ref_trace)\n",
    "\n",
    "plt.figure()\n",
    "trace = send_pwd_and_capture(\"a\" + \"\\n\")\n",
    "plt.plot(trace - ref_trace)"
   ]
  },
  {
   "cell_type": "markdown",
   "id": "08aaabb3",
   "metadata": {},
   "source": [
    "#### Let's get values for the differences between the traces"
   ]
  },
  {
   "cell_type": "code",
   "execution_count": null,
   "id": "d8b54e54",
   "metadata": {},
   "outputs": [],
   "source": [
    "import numpy as np\n",
    "\n",
    "ref_trace = send_pwd_and_capture(\"\\x00\\n\")\n",
    "\n",
    "for c in \"abcdefghijklmnopqrstuvwxyz0123456789\":\n",
    "    trace = send_pwd_and_capture(c + \"\\n\")\n",
    "    diff = np.sum(np.abs(trace - ref_trace))\n",
    "    \n",
    "    print(f\"{c}: {diff=}\")"
   ]
  },
  {
   "cell_type": "markdown",
   "id": "a90ced3d",
   "metadata": {},
   "source": [
    "## Running a full attack against the password"
   ]
  },
  {
   "cell_type": "code",
   "execution_count": null,
   "id": "4d0ea6b0",
   "metadata": {},
   "outputs": [],
   "source": [
    "ref_trace = send_pwd_and_capture(\"\\x00\\n\")\n",
    "\n",
    "#solution = cap_pass_trace(\"0hf6hdx9\\n\")\n",
    "\n",
    "import numpy as np\n",
    "import string\n",
    "\n",
    "available_characters = \"abcdefghijklmnopqrstuvwxyz0123456789\"\n",
    "\n",
    "def convert_string_to_list(string):\n",
    "    list1=[]\n",
    "    list1[:0]=string\n",
    "    return list1\n",
    "\n",
    "def max_diff(pwd):\n",
    "    \n",
    "    diffs = list()    \n",
    "    ref_trace = send_pwd_and_capture(pwd + \"\\x00\\n\")\n",
    "    \n",
    "    for charac in list_of_available_characters:\n",
    "        \n",
    "        trace = send_pwd_and_capture(pwd + charac + \"\\n\")\n",
    "        diff = np.sum(np.abs(trace - ref_trace))\n",
    "        diffs.append((charac, diff))\n",
    "    \n",
    "    letter, diff = max(diffs, key=lambda x: x[1])\n",
    "    print(letter, diff)\n",
    "        \n",
    "    if(diff > 75):\n",
    "        pwd = pwd + letter\n",
    "        return max_diff(pwd)\n",
    "    else:\n",
    "        return pwd\n",
    "        \n",
    "password = \"\"\n",
    "\n",
    "list_of_available_characters = convert_string_to_list(available_characters)\n",
    "        \n",
    "pwd_found = max_diff(password)\n",
    "print(pwd_found)"
   ]
  }
 ],
 "metadata": {
  "kernelspec": {
   "display_name": "Python 3 (ipykernel)",
   "language": "python",
   "name": "python3"
  },
  "language_info": {
   "codemirror_mode": {
    "name": "ipython",
    "version": 3
   },
   "file_extension": ".py",
   "mimetype": "text/x-python",
   "name": "python",
   "nbconvert_exporter": "python",
   "pygments_lexer": "ipython3",
   "version": "3.10.4"
  }
 },
 "nbformat": 4,
 "nbformat_minor": 5
}
